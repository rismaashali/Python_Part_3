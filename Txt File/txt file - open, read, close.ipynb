{
 "cells": [
  {
   "cell_type": "markdown",
   "id": "dbd8a02a",
   "metadata": {},
   "source": [
    "# open\n",
    "- The file you want to open must be in the same location as the python file used to run the command.\n",
    "- If the file is located in a different location, you will have to specify the file path.\n",
    "- To open the file, use the built-in **open()** function."
   ]
  },
  {
   "cell_type": "code",
   "execution_count": 1,
   "id": "c472f318",
   "metadata": {},
   "outputs": [],
   "source": [
    "workFile = open('jackets.txt', 'r')"
   ]
  },
  {
   "cell_type": "code",
   "execution_count": 2,
   "id": "eddd2635",
   "metadata": {},
   "outputs": [],
   "source": [
    "workFileContents = workFile.read()"
   ]
  },
  {
   "cell_type": "code",
   "execution_count": 3,
   "id": "bd12b2a9",
   "metadata": {},
   "outputs": [
    {
     "name": "stdout",
     "output_type": "stream",
     "text": [
      "Product, Price\n",
      "Big Down Jacket, 100\n",
      "Medium Down Jacket, 80\n",
      "Regular Jacket, 40\n"
     ]
    }
   ],
   "source": [
    "print(workFileContents)"
   ]
  },
  {
   "cell_type": "markdown",
   "id": "2a66b4c8",
   "metadata": {},
   "source": [
    "# read\n",
    "- **read()** method use to read the content of the file.\n",
    "- By calling **readline()** two times, you can read the two first lines.\n",
    "- If you want to display the third line, you must calling **readline()** for the first line then forthe second line fisrt."
   ]
  },
  {
   "cell_type": "code",
   "execution_count": 4,
   "id": "25b4eab1",
   "metadata": {},
   "outputs": [],
   "source": [
    "workFile = open('jackets.txt', 'r')"
   ]
  },
  {
   "cell_type": "code",
   "execution_count": 5,
   "id": "ca5ea5fb",
   "metadata": {},
   "outputs": [],
   "source": [
    "workFileFirstLine = workFile.readline()"
   ]
  },
  {
   "cell_type": "code",
   "execution_count": 6,
   "id": "20193cd7",
   "metadata": {},
   "outputs": [
    {
     "name": "stdout",
     "output_type": "stream",
     "text": [
      "Product, Price\n",
      "\n"
     ]
    }
   ],
   "source": [
    "print(workFileFirstLine)"
   ]
  },
  {
   "cell_type": "code",
   "execution_count": 7,
   "id": "f2111301",
   "metadata": {},
   "outputs": [],
   "source": [
    "workFileSecondLine = workFile.readline()"
   ]
  },
  {
   "cell_type": "code",
   "execution_count": 8,
   "id": "38b393c6",
   "metadata": {},
   "outputs": [
    {
     "name": "stdout",
     "output_type": "stream",
     "text": [
      "Big Down Jacket, 100\n",
      "\n"
     ]
    }
   ],
   "source": [
    "print(workFileSecondLine)"
   ]
  },
  {
   "cell_type": "markdown",
   "id": "ff924b50",
   "metadata": {},
   "source": [
    "# close\n",
    "- It is a good practice to always close the file when you are done with it."
   ]
  },
  {
   "cell_type": "code",
   "execution_count": 9,
   "id": "f9c8d8d7",
   "metadata": {},
   "outputs": [],
   "source": [
    "workFile.close()"
   ]
  },
  {
   "cell_type": "markdown",
   "id": "97921a66",
   "metadata": {},
   "source": [
    "# Task"
   ]
  },
  {
   "cell_type": "code",
   "execution_count": 10,
   "id": "5763f813",
   "metadata": {},
   "outputs": [],
   "source": [
    "workFile = open('members.txt', 'r')"
   ]
  },
  {
   "cell_type": "code",
   "execution_count": 11,
   "id": "7ce9988d",
   "metadata": {},
   "outputs": [],
   "source": [
    "workFileContents = workFile.read()"
   ]
  },
  {
   "cell_type": "code",
   "execution_count": 12,
   "id": "639dd644",
   "metadata": {},
   "outputs": [
    {
     "name": "stdout",
     "output_type": "stream",
     "text": [
      "Nama, Jurusan\n",
      "Jaza, Teknik Elektro\n",
      "Irvan, Teknik Informatika\n",
      "Risma, Statistika\n",
      "Rizal, Teknik Komputer\n",
      "Shafira, Statistika\n"
     ]
    }
   ],
   "source": [
    "print(workFileContents)"
   ]
  },
  {
   "cell_type": "code",
   "execution_count": 13,
   "id": "68df9352",
   "metadata": {},
   "outputs": [],
   "source": [
    "workFile = open('members.txt', 'r')"
   ]
  },
  {
   "cell_type": "code",
   "execution_count": 14,
   "id": "39cda253",
   "metadata": {},
   "outputs": [],
   "source": [
    "workFileFirstLine = workFile.readline()"
   ]
  },
  {
   "cell_type": "code",
   "execution_count": 15,
   "id": "ef5d8412",
   "metadata": {},
   "outputs": [
    {
     "name": "stdout",
     "output_type": "stream",
     "text": [
      "Nama, Jurusan\n",
      "\n"
     ]
    }
   ],
   "source": [
    "print(workFileFirstLine)"
   ]
  },
  {
   "cell_type": "code",
   "execution_count": 16,
   "id": "5e3451af",
   "metadata": {},
   "outputs": [],
   "source": [
    "workFileSecondLine = workFile.readline()"
   ]
  },
  {
   "cell_type": "code",
   "execution_count": 17,
   "id": "6798f799",
   "metadata": {},
   "outputs": [
    {
     "name": "stdout",
     "output_type": "stream",
     "text": [
      "Jaza, Teknik Elektro\n",
      "\n"
     ]
    }
   ],
   "source": [
    "print(workFileSecondLine)"
   ]
  },
  {
   "cell_type": "code",
   "execution_count": 18,
   "id": "750fc877",
   "metadata": {},
   "outputs": [],
   "source": [
    "workFileThirdLine = workFile.readline()"
   ]
  },
  {
   "cell_type": "code",
   "execution_count": 19,
   "id": "57a36cad",
   "metadata": {},
   "outputs": [
    {
     "name": "stdout",
     "output_type": "stream",
     "text": [
      "Irvan, Teknik Informatika\n",
      "\n"
     ]
    }
   ],
   "source": [
    "print(workFileThirdLine)"
   ]
  },
  {
   "cell_type": "code",
   "execution_count": 20,
   "id": "e96d4ac9",
   "metadata": {},
   "outputs": [],
   "source": [
    "workFileFourthLine = workFile.readline()"
   ]
  },
  {
   "cell_type": "code",
   "execution_count": 21,
   "id": "2d4cb8c3",
   "metadata": {},
   "outputs": [
    {
     "name": "stdout",
     "output_type": "stream",
     "text": [
      "Risma, Statistika\n",
      "\n"
     ]
    }
   ],
   "source": [
    "print(workFileFourthLine)"
   ]
  }
 ],
 "metadata": {
  "kernelspec": {
   "display_name": "Python 3 (ipykernel)",
   "language": "python",
   "name": "python3"
  },
  "language_info": {
   "codemirror_mode": {
    "name": "ipython",
    "version": 3
   },
   "file_extension": ".py",
   "mimetype": "text/x-python",
   "name": "python",
   "nbconvert_exporter": "python",
   "pygments_lexer": "ipython3",
   "version": "3.9.7"
  }
 },
 "nbformat": 4,
 "nbformat_minor": 5
}
