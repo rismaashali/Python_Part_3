{
 "cells": [
  {
   "cell_type": "markdown",
   "id": "4d806483",
   "metadata": {},
   "source": [
    "# Remove txt file"
   ]
  },
  {
   "cell_type": "markdown",
   "id": "d05f4baf",
   "metadata": {},
   "source": [
    "We can remove txt file by using os module and call remove function\n",
    "\n",
    "os.remove() method in Python is used to remove or delete a file path. This method can not remove or delete a directory."
   ]
  },
  {
   "cell_type": "code",
   "execution_count": 1,
   "id": "6133c6d9",
   "metadata": {},
   "outputs": [],
   "source": [
    "import os\n",
    "\n",
    "if os.path.isfile('log.txt'):\n",
    "    os.remove('log.txt')\n",
    "else:\n",
    "    print('file not found')"
   ]
  }
 ],
 "metadata": {
  "kernelspec": {
   "display_name": "Python 3 (ipykernel)",
   "language": "python",
   "name": "python3"
  },
  "language_info": {
   "codemirror_mode": {
    "name": "ipython",
    "version": 3
   },
   "file_extension": ".py",
   "mimetype": "text/x-python",
   "name": "python",
   "nbconvert_exporter": "python",
   "pygments_lexer": "ipython3",
   "version": "3.7.9"
  }
 },
 "nbformat": 4,
 "nbformat_minor": 5
}
