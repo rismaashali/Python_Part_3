{
 "cells": [
  {
   "cell_type": "markdown",
   "id": "9c8d3564",
   "metadata": {},
   "source": [
    "# Write\n",
    "- By adding the \"w\" parameter in the **open()** function then the file will open to write.\n",
    "- If the file exists, the function will truncate all the contents as soon as you open it.\n",
    "- If the file doesn’t exist, the function creates a new file."
   ]
  },
  {
   "cell_type": "code",
   "execution_count": 3,
   "id": "d2206348",
   "metadata": {},
   "outputs": [
    {
     "name": "stdout",
     "output_type": "stream",
     "text": [
      "what do you want to write to the log?My name is Risma Ashali\n"
     ]
    }
   ],
   "source": [
    "with open('log.txt','w') as writeFile:\n",
    "    toLog = input(\"what do you want to write to the log?\")\n",
    "    writeFile.write(toLog)"
   ]
  },
  {
   "cell_type": "markdown",
   "id": "4b5ce773",
   "metadata": {},
   "source": [
    "# Task"
   ]
  },
  {
   "cell_type": "code",
   "execution_count": 4,
   "id": "184bef22",
   "metadata": {},
   "outputs": [],
   "source": [
    "with open('group2.txt','w') as workFile:\n",
    "    content = (\"Name, Subject \\nRisma, Statistika \\nJaza, Teknik Elektro \\nIrvan, Teknik Informatika \\nRizal, Teknik Komputer \\nShafira, Statistika\")\n",
    "    workFile.write(content)"
   ]
  },
  {
   "cell_type": "markdown",
   "id": "16eb203a",
   "metadata": {},
   "source": [
    "In the Pyhton directory will be formed txt file according to the one created"
   ]
  }
 ],
 "metadata": {
  "kernelspec": {
   "display_name": "Python 3 (ipykernel)",
   "language": "python",
   "name": "python3"
  },
  "language_info": {
   "codemirror_mode": {
    "name": "ipython",
    "version": 3
   },
   "file_extension": ".py",
   "mimetype": "text/x-python",
   "name": "python",
   "nbconvert_exporter": "python",
   "pygments_lexer": "ipython3",
   "version": "3.9.7"
  }
 },
 "nbformat": 4,
 "nbformat_minor": 5
}
