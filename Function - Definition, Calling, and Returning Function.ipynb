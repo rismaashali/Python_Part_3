{
 "cells": [
  {
   "cell_type": "markdown",
   "id": "1024d911",
   "metadata": {},
   "source": [
    "Function:\n",
    "+ in Math, a function is a process that relates an input and an output\n",
    "+ in Python, in addition to those relational functions. Functions are also a way to organize code with the ultimate goal of reusability.\n",
    "+ It is recommended that functions have only one specific use but can be reused\n",
    "+ Common functions are available in Python\n",
    "+ But we can always define our own function"
   ]
  },
  {
   "cell_type": "markdown",
   "id": "22478a52",
   "metadata": {},
   "source": [
    "Definition\n",
    "+ Functions are defined with the def keyword followed by the name of the function and its parameters in brackets ()\n",
    "+ Optionally, you can add docstring-string documentation describing the context of the function\n",
    "+ The code block in each function starts with a colon using an indentation\n",
    "+ The function stops when there is a return statement (expression) that returns (expression) to the caller\n",
    "+ You can also make the function return no output by returning None"
   ]
  },
  {
   "cell_type": "code",
   "execution_count": 17,
   "id": "569dc488",
   "metadata": {},
   "outputs": [],
   "source": [
    "def oper(x):\n",
    "    rasi = 2**x + 5\n",
    "    return rasi"
   ]
  },
  {
   "cell_type": "code",
   "execution_count": 18,
   "id": "fe33cee8",
   "metadata": {},
   "outputs": [
    {
     "data": {
      "text/plain": [
       "13"
      ]
     },
     "execution_count": 18,
     "metadata": {},
     "output_type": "execute_result"
    }
   ],
   "source": [
    "oper (3)"
   ]
  },
  {
   "cell_type": "code",
   "execution_count": 19,
   "id": "5f6c33f4",
   "metadata": {},
   "outputs": [],
   "source": [
    "def oper(x):\n",
    "    rasi = 2**x + 5\n",
    "    print (rasi)"
   ]
  },
  {
   "cell_type": "code",
   "execution_count": 20,
   "id": "4147ffe3",
   "metadata": {},
   "outputs": [
    {
     "name": "stdout",
     "output_type": "stream",
     "text": [
      "13\n"
     ]
    }
   ],
   "source": [
    "oper(3)"
   ]
  },
  {
   "cell_type": "markdown",
   "id": "ca9035c1",
   "metadata": {},
   "source": [
    "by default, python will position each parameter according to the order in which it was registered at the time it was defined and must be called in that order"
   ]
  },
  {
   "cell_type": "code",
   "execution_count": 21,
   "id": "087bd4ee",
   "metadata": {},
   "outputs": [],
   "source": [
    "def judul(x):\n",
    "    buku = 'Buku ini berjudul {}'.format(x)\n",
    "    return buku"
   ]
  },
  {
   "cell_type": "code",
   "execution_count": 22,
   "id": "b56186db",
   "metadata": {},
   "outputs": [
    {
     "data": {
      "text/plain": [
       "'Buku ini berjudul Kancil'"
      ]
     },
     "execution_count": 22,
     "metadata": {},
     "output_type": "execute_result"
    }
   ],
   "source": [
    "judul('Kancil')"
   ]
  },
  {
   "cell_type": "code",
   "execution_count": 23,
   "id": "1e6aa2a1",
   "metadata": {},
   "outputs": [
    {
     "data": {
      "text/plain": [
       "'Buku ini berjudul Kuntilanak Kayang'"
      ]
     },
     "execution_count": 23,
     "metadata": {},
     "output_type": "execute_result"
    }
   ],
   "source": [
    "judul('Kuntilanak Kayang')"
   ]
  },
  {
   "cell_type": "markdown",
   "id": "08b23ed2",
   "metadata": {},
   "source": [
    "Return\n",
    "+ the return statement (expression) will make the program execution exit the current function, while returning a certain value"
   ]
  },
  {
   "cell_type": "code",
   "execution_count": 24,
   "id": "b408b235",
   "metadata": {},
   "outputs": [],
   "source": [
    "def kali(x,y):\n",
    "    times = x*y\n",
    "    print (\"Hasil Perkalian Adalah: \", times)\n",
    "    return bagi"
   ]
  },
  {
   "cell_type": "code",
   "execution_count": 25,
   "id": "21cd0e7e",
   "metadata": {},
   "outputs": [
    {
     "name": "stdout",
     "output_type": "stream",
     "text": [
      "Hasil Perkalian Adalah:  500\n"
     ]
    },
    {
     "data": {
      "text/plain": [
       "<function __main__.bagi(x, y)>"
      ]
     },
     "execution_count": 25,
     "metadata": {},
     "output_type": "execute_result"
    }
   ],
   "source": [
    "kali(100,5)"
   ]
  },
  {
   "cell_type": "markdown",
   "id": "7bf44d03",
   "metadata": {},
   "source": [
    "+ The return value in a function can be stored in a variable\n",
    "+ This is what distinguishes a function that returns a value from a function that does not return a value (often called a procedure)."
   ]
  },
  {
   "cell_type": "code",
   "execution_count": 26,
   "id": "0b04ce4f",
   "metadata": {},
   "outputs": [],
   "source": [
    "def akar(x):\n",
    "    root = x**0.5\n",
    "    return root"
   ]
  },
  {
   "cell_type": "code",
   "execution_count": 27,
   "id": "1072bc55",
   "metadata": {},
   "outputs": [
    {
     "data": {
      "text/plain": [
       "12.0"
      ]
     },
     "execution_count": 27,
     "metadata": {},
     "output_type": "execute_result"
    }
   ],
   "source": [
    "akar(144)"
   ]
  },
  {
   "cell_type": "code",
   "execution_count": 29,
   "id": "f11455fb",
   "metadata": {},
   "outputs": [
    {
     "name": "stdout",
     "output_type": "stream",
     "text": [
      "625\n",
      "hasil akar adalah:  25.0\n"
     ]
    }
   ],
   "source": [
    "number = int(input().strip())\n",
    "hasil = akar(number)\n",
    "print(\"hasil akar adalah: \",hasil)"
   ]
  },
  {
   "cell_type": "code",
   "execution_count": 30,
   "id": "4d11a920",
   "metadata": {},
   "outputs": [
    {
     "name": "stdout",
     "output_type": "stream",
     "text": [
      "Hasil dari akar 625 yaitu 25.0\n"
     ]
    }
   ],
   "source": [
    "print(\"Hasil dari akar {} yaitu {}\".format(number,hasil))"
   ]
  },
  {
   "cell_type": "markdown",
   "id": "a9c10073",
   "metadata": {},
   "source": [
    "Pass by reference vs value\n",
    "- All parameters (arguments) in python language are \"passed by reference\". This means that when we change a variable, the data that references it will also change, both inside the function, and outside the caller function.\n",
    "- Unless we do an assignment operation that will change the reference parameter."
   ]
  },
  {
   "cell_type": "code",
   "execution_count": 13,
   "id": "ab6ea613",
   "metadata": {},
   "outputs": [],
   "source": [
    "def ubah(daftar_negara):\n",
    "    daftar_negara.append(['Indonesia','Thailand','Filipina','Malaysia'])\n",
    "    print('Negara dalam fungsi: {}'.format(daftar_negara))"
   ]
  },
  {
   "cell_type": "code",
   "execution_count": 14,
   "id": "782a9389",
   "metadata": {},
   "outputs": [
    {
     "name": "stdout",
     "output_type": "stream",
     "text": [
      "Negara dalam fungsi: ['Brunei', 'Myanmar', ['Indonesia', 'Thailand', 'Filipina', 'Malaysia']]\n",
      "Negara luar fungsi: ['Brunei', 'Myanmar', ['Indonesia', 'Thailand', 'Filipina', 'Malaysia']]\n"
     ]
    }
   ],
   "source": [
    "daftar_negara =['Brunei','Myanmar']\n",
    "ubah (daftar_negara)\n",
    "print('Negara luar fungsi: {}'.format(daftar_negara))"
   ]
  },
  {
   "cell_type": "markdown",
   "id": "c60b1f8c",
   "metadata": {},
   "source": [
    "However we have to be careful because the assignment of the named variable is the same as the parameter, meaning it creates a new variable in the local scope and is not related to the global variable."
   ]
  },
  {
   "cell_type": "code",
   "execution_count": 15,
   "id": "bc8999da",
   "metadata": {},
   "outputs": [],
   "source": [
    "def ubah(daftar_negara):\n",
    "    daftar_negara = ['Indonesia','Malaysia']\n",
    "    daftar_negara.append ('Thailand')\n",
    "    print('Negara dalam fungsi: {}'.format(daftar_negara))"
   ]
  },
  {
   "cell_type": "code",
   "execution_count": 16,
   "id": "3734a5ae",
   "metadata": {},
   "outputs": [
    {
     "name": "stdout",
     "output_type": "stream",
     "text": [
      "Negara dalam fungsi: ['Indonesia', 'Malaysia', 'Thailand']\n"
     ]
    }
   ],
   "source": [
    "ubah(daftar_negara)"
   ]
  },
  {
   "cell_type": "code",
   "execution_count": 17,
   "id": "fe546c18",
   "metadata": {},
   "outputs": [],
   "source": [
    "daftar_negara = ['Jepang','Korea']"
   ]
  },
  {
   "cell_type": "code",
   "execution_count": 18,
   "id": "e21c9603",
   "metadata": {},
   "outputs": [
    {
     "name": "stdout",
     "output_type": "stream",
     "text": [
      "Negara dalam fungsi: ['Indonesia', 'Malaysia', 'Thailand']\n"
     ]
    }
   ],
   "source": [
    "ubah(daftar_negara)"
   ]
  },
  {
   "cell_type": "code",
   "execution_count": 19,
   "id": "90245fb5",
   "metadata": {},
   "outputs": [
    {
     "name": "stdout",
     "output_type": "stream",
     "text": [
      "Negara dalam fungsi: ['Indonesia', 'Malaysia', 'Thailand']\n",
      "Negara luar fungsi: ['Vietnam', 'Kamboja']\n"
     ]
    }
   ],
   "source": [
    "daftar_negara = ['Vietnam','Kamboja']\n",
    "ubah(daftar_negara)\n",
    "print('Negara luar fungsi: {}'.format(daftar_negara))"
   ]
  },
  {
   "cell_type": "markdown",
   "id": "441b7fc0",
   "metadata": {},
   "source": [
    "Variables daftar_list recreated their localized version in the modify function with the assignment operator(equal to(), so the value of the daftar_list will be different because it is local in the modify function only)"
   ]
  },
  {
   "cell_type": "code",
   "execution_count": null,
   "id": "24bf8b02",
   "metadata": {},
   "outputs": [],
   "source": []
  },
  {
   "cell_type": "code",
   "execution_count": 2,
   "id": "149e7b30",
   "metadata": {},
   "outputs": [],
   "source": [
    "def rubah(daftar_list):\n",
    "    daftar_list.append([3,4])\n",
    "    print(\"Nilai dalam fungsi adalah {}\".format(daftar_list))"
   ]
  },
  {
   "cell_type": "code",
   "execution_count": 3,
   "id": "f0c3fb34",
   "metadata": {},
   "outputs": [
    {
     "name": "stdout",
     "output_type": "stream",
     "text": [
      "Nilai dalam fungsi adalah [5, 6, [3, 4]]\n",
      "Nilai di luar fungsi adalah [5, 6, [3, 4]]\n"
     ]
    }
   ],
   "source": [
    "daftar_list = [5,6]\n",
    "rubah(daftar_list)\n",
    "print(\"Nilai di luar fungsi adalah {}\".format(daftar_list))"
   ]
  },
  {
   "cell_type": "code",
   "execution_count": 4,
   "id": "de7fbdd4",
   "metadata": {},
   "outputs": [],
   "source": [
    "def rubah(daftar_list):\n",
    "    daftar_list = [3,4]\n",
    "    daftar_list.append(5)\n",
    "    print(\"Nilai dalam fungsi adalah {}\".format(daftar_list))"
   ]
  },
  {
   "cell_type": "code",
   "execution_count": 5,
   "id": "fd9d436a",
   "metadata": {},
   "outputs": [
    {
     "name": "stdout",
     "output_type": "stream",
     "text": [
      "Nilai dalam fungsi adalah [3, 4, 5]\n"
     ]
    }
   ],
   "source": [
    "rubah(daftar_list)"
   ]
  },
  {
   "cell_type": "code",
   "execution_count": 6,
   "id": "bd995e8a",
   "metadata": {},
   "outputs": [],
   "source": [
    "daftar_list = [5,6]"
   ]
  },
  {
   "cell_type": "code",
   "execution_count": 7,
   "id": "66b6cc9a",
   "metadata": {},
   "outputs": [
    {
     "name": "stdout",
     "output_type": "stream",
     "text": [
      "Nilai dalam fungsi adalah [3, 4, 5]\n"
     ]
    }
   ],
   "source": [
    "rubah(daftar_list)"
   ]
  },
  {
   "cell_type": "code",
   "execution_count": 8,
   "id": "fb5e3114",
   "metadata": {},
   "outputs": [
    {
     "name": "stdout",
     "output_type": "stream",
     "text": [
      "Nilai dalam fungsi adalah [3, 4, 5]\n",
      "Nilai di luar fungsi adalah [5, 6]\n"
     ]
    }
   ],
   "source": [
    "daftar_list = [5,6]\n",
    "rubah(daftar_list)\n",
    "print(\"Nilai di luar fungsi adalah {}\".format(daftar_list))"
   ]
  },
  {
   "cell_type": "markdown",
   "id": "80590c31",
   "metadata": {},
   "source": [
    "Function Arguments and Parameters\n",
    "- Paremeter is the definition of input that a function accepts.\n",
    "- Arguments are the things we enter when calling the function."
   ]
  },
  {
   "cell_type": "code",
   "execution_count": 10,
   "id": "5834f17b",
   "metadata": {},
   "outputs": [],
   "source": [
    "def pangkat(x):\n",
    "    kuadrat = x**2 #fungsi pangkat dua\n",
    "    return kuadrat"
   ]
  },
  {
   "cell_type": "markdown",
   "id": "c54918bf",
   "metadata": {},
   "source": [
    "x is the parameter\n",
    "\n",
    "But when called with\n",
    "pangkat(3) then 3 is the argument."
   ]
  },
  {
   "cell_type": "code",
   "execution_count": null,
   "id": "d8adeb21",
   "metadata": {},
   "outputs": [],
   "source": []
  }
 ],
 "metadata": {
  "kernelspec": {
   "display_name": "Python 3 (ipykernel)",
   "language": "python",
   "name": "python3"
  },
  "language_info": {
   "codemirror_mode": {
    "name": "ipython",
    "version": 3
   },
   "file_extension": ".py",
   "mimetype": "text/x-python",
   "name": "python",
   "nbconvert_exporter": "python",
   "pygments_lexer": "ipython3",
   "version": "3.9.12"
  }
 },
 "nbformat": 4,
 "nbformat_minor": 5
}
