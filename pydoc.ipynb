{
 "cells": [
  {
   "cell_type": "markdown",
   "id": "7295514f",
   "metadata": {},
   "source": [
    "# pydoc\n",
    "- The pydoc module automatically generates documentation from Python modules. The documentation can be presented as pages of text on the console, served to a web browser, or saved to HTML files."
   ]
  },
  {
   "cell_type": "markdown",
   "id": "53919202",
   "metadata": {},
   "source": [
    "command prompt(Anaconda Prompt)"
   ]
  },
  {
   "cell_type": "markdown",
   "id": "b2bba604",
   "metadata": {},
   "source": [
    "c:\\users\\admin>python -m pydoc pass"
   ]
  },
  {
   "cell_type": "markdown",
   "id": "b3b7584d",
   "metadata": {},
   "source": [
    "c:\\users\\admin>python /?"
   ]
  }
 ],
 "metadata": {
  "kernelspec": {
   "display_name": "Python 3 (ipykernel)",
   "language": "python",
   "name": "python3"
  },
  "language_info": {
   "codemirror_mode": {
    "name": "ipython",
    "version": 3
   },
   "file_extension": ".py",
   "mimetype": "text/x-python",
   "name": "python",
   "nbconvert_exporter": "python",
   "pygments_lexer": "ipython3",
   "version": "3.9.7"
  }
 },
 "nbformat": 4,
 "nbformat_minor": 5
}
