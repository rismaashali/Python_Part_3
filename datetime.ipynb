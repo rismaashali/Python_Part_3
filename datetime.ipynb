{
 "cells": [
  {
   "cell_type": "markdown",
   "id": "557e86e0",
   "metadata": {},
   "source": [
    "# Datetime"
   ]
  },
  {
   "cell_type": "markdown",
   "id": "012be674",
   "metadata": {},
   "source": [
    "Python Datetime module supplies classes to work with date and time. These classes provide a number of functions to deal with dates, times and time intervals. \n",
    "\n",
    "There are 6 main classes in Datetime module\n",
    "- date\n",
    "- time \n",
    "- datetime\n",
    "- timedelta\n",
    "- tzinfo\n",
    "- timezone\n",
    "\n"
   ]
  },
  {
   "cell_type": "code",
   "execution_count": 1,
   "id": "98a33ec8",
   "metadata": {},
   "outputs": [
    {
     "data": {
      "text/plain": [
       "datetime.datetime(2022, 10, 9, 19, 43, 10, 886529)"
      ]
     },
     "execution_count": 1,
     "metadata": {},
     "output_type": "execute_result"
    }
   ],
   "source": [
    "import datetime \n",
    "time = datetime.datetime.today() ##method to return date and time today\n",
    "time"
   ]
  },
  {
   "cell_type": "code",
   "execution_count": 2,
   "id": "21c63a78",
   "metadata": {},
   "outputs": [
    {
     "data": {
      "text/plain": [
       "datetime.date(2022, 10, 9)"
      ]
     },
     "execution_count": 2,
     "metadata": {},
     "output_type": "execute_result"
    }
   ],
   "source": [
    "a = datetime.date.today() ##method to return date today\n",
    "a"
   ]
  },
  {
   "cell_type": "code",
   "execution_count": 3,
   "id": "4bea95b7",
   "metadata": {},
   "outputs": [
    {
     "name": "stdout",
     "output_type": "stream",
     "text": [
      "09-10-22\n",
      "Sun\n",
      "Oct\n"
     ]
    }
   ],
   "source": [
    "time = datetime.date.today()\n",
    "timeformat = datetime.datetime.strftime(time, '%d-%m-%y') ##method to change format into day-month-year\n",
    "month = datetime.datetime.strftime(time, '%a') ##method to return month of datetime\n",
    "day =  datetime.datetime.strftime(time, '%b') ##method to return day of datetime\n",
    "print(timeformat)\n",
    "print(month)\n",
    "print(day)"
   ]
  }
 ],
 "metadata": {
  "kernelspec": {
   "display_name": "Python 3 (ipykernel)",
   "language": "python",
   "name": "python3"
  },
  "language_info": {
   "codemirror_mode": {
    "name": "ipython",
    "version": 3
   },
   "file_extension": ".py",
   "mimetype": "text/x-python",
   "name": "python",
   "nbconvert_exporter": "python",
   "pygments_lexer": "ipython3",
   "version": "3.7.9"
  }
 },
 "nbformat": 4,
 "nbformat_minor": 5
}
