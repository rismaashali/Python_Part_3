{
 "cells": [
  {
   "cell_type": "code",
   "execution_count": 2,
   "id": "f5842c3a",
   "metadata": {},
   "outputs": [],
   "source": [
    "#import numpy\n",
    "import numpy as np"
   ]
  },
  {
   "cell_type": "code",
   "execution_count": 3,
   "id": "7ee13e9e",
   "metadata": {},
   "outputs": [
    {
     "name": "stdout",
     "output_type": "stream",
     "text": [
      "1.20.3\n"
     ]
    }
   ],
   "source": [
    "#checking numpy version\n",
    "\n",
    "print(np.__version__)"
   ]
  },
  {
   "cell_type": "code",
   "execution_count": 4,
   "id": "0719ef64",
   "metadata": {},
   "outputs": [
    {
     "name": "stdout",
     "output_type": "stream",
     "text": [
      "[1 2 3 4 5]\n"
     ]
    }
   ],
   "source": [
    "#creating a numpy number\n",
    "\n",
    "arr = np.array([1,2,3,4,5])\n",
    "print(arr)"
   ]
  },
  {
   "cell_type": "code",
   "execution_count": 5,
   "id": "884f3ea4",
   "metadata": {},
   "outputs": [
    {
     "name": "stdout",
     "output_type": "stream",
     "text": [
      "[1 2 3 4 5]\n",
      "<class 'numpy.ndarray'>\n"
     ]
    }
   ],
   "source": [
    "import numpy as np\n",
    "\n",
    "arr = np.array([1,2,3,4,5])\n",
    "print(arr)\n",
    "print(type(arr))"
   ]
  },
  {
   "cell_type": "code",
   "execution_count": 10,
   "id": "6db96cb1",
   "metadata": {},
   "outputs": [
    {
     "name": "stdout",
     "output_type": "stream",
     "text": [
      "[1 2 3 4 5]\n"
     ]
    }
   ],
   "source": [
    "#use a tupple to create a numpy number\n",
    "\n",
    "import numpy as np\n",
    "\n",
    "arr = np.array((1,2,3,4,5))\n",
    "print(arr)        "
   ]
  },
  {
   "cell_type": "markdown",
   "id": "d7fe9f4f",
   "metadata": {},
   "source": [
    "# TASK"
   ]
  },
  {
   "cell_type": "code",
   "execution_count": 14,
   "id": "791890b4",
   "metadata": {},
   "outputs": [
    {
     "name": "stdout",
     "output_type": "stream",
     "text": [
      "[0.1 0.2 0.3 0.4 0.5]\n",
      "<class 'numpy.ndarray'>\n"
     ]
    }
   ],
   "source": [
    "#array list\n",
    "list = np.array([0.1, 0.2, 0.3, 0.4, 0.5])\n",
    "print(list)\n",
    "print(type(list))"
   ]
  },
  {
   "cell_type": "code",
   "execution_count": 13,
   "id": "bc356448",
   "metadata": {},
   "outputs": [
    {
     "name": "stdout",
     "output_type": "stream",
     "text": [
      "['merah' 'kuning' 'hijau']\n"
     ]
    }
   ],
   "source": [
    "#array tupple\n",
    "warna = np.array((\"merah\",\"kuning\",\"hijau\"))\n",
    "print(warna)"
   ]
  },
  {
   "cell_type": "markdown",
   "id": "5a906fa1",
   "metadata": {},
   "source": [
    "# Dimensions in Arrays\n",
    "A dimension in arrays is one level of array depth (nested arrays)"
   ]
  },
  {
   "cell_type": "code",
   "execution_count": 8,
   "id": "9488d50b",
   "metadata": {},
   "outputs": [
    {
     "name": "stdout",
     "output_type": "stream",
     "text": [
      "40\n"
     ]
    }
   ],
   "source": [
    "#0-D arrays\n",
    "import numpy as np\n",
    "arr = np.array(40)\n",
    "print(arr)"
   ]
  },
  {
   "cell_type": "code",
   "execution_count": 16,
   "id": "c725df7a",
   "metadata": {},
   "outputs": [
    {
     "name": "stdout",
     "output_type": "stream",
     "text": [
      "[1 2 3 4 5]\n"
     ]
    }
   ],
   "source": [
    "#create a 1-D array\n",
    "import numpy as np\n",
    "arr = np.array([1,2,3,4,5])\n",
    "print(arr)"
   ]
  },
  {
   "cell_type": "code",
   "execution_count": 19,
   "id": "78b7468f",
   "metadata": {},
   "outputs": [
    {
     "name": "stdout",
     "output_type": "stream",
     "text": [
      "[[1 2 3]\n",
      " [4 5 6]\n",
      " [5 6 7]]\n"
     ]
    }
   ],
   "source": [
    "#create a 2-D array containing three arrays\n",
    "import numpy as np\n",
    "\n",
    "arr = np.array([[1,2,3],[4,5,6],[5,6,7]])\n",
    "print(arr)"
   ]
  },
  {
   "cell_type": "code",
   "execution_count": 23,
   "id": "102b2a8f",
   "metadata": {},
   "outputs": [
    {
     "name": "stdout",
     "output_type": "stream",
     "text": [
      "[[[1 2 3]\n",
      "  [4 5 6]]\n",
      "\n",
      " [[1 2 3]\n",
      "  [4 5 6]]]\n"
     ]
    }
   ],
   "source": [
    "#create a 3-D array with two 2-D arrays, both containing two arrays\n",
    "import numpy as np\n",
    "\n",
    "arr = np.array([[[1,2,3],[4,5,6]],[[1,2,3],[4,5,6]]])\n",
    "print(arr)"
   ]
  },
  {
   "cell_type": "markdown",
   "id": "ab781dc9",
   "metadata": {},
   "source": [
    "# TASK"
   ]
  },
  {
   "cell_type": "code",
   "execution_count": 24,
   "id": "6568058f",
   "metadata": {},
   "outputs": [
    {
     "name": "stdout",
     "output_type": "stream",
     "text": [
      "merah\n"
     ]
    }
   ],
   "source": [
    "#0-D arrays\n",
    "warna = np.array(\"merah\")\n",
    "print(warna)"
   ]
  },
  {
   "cell_type": "code",
   "execution_count": 25,
   "id": "84ea0e76",
   "metadata": {},
   "outputs": [
    {
     "name": "stdout",
     "output_type": "stream",
     "text": [
      "['merah' 'kuning' 'hijau']\n"
     ]
    }
   ],
   "source": [
    "#1-D arrays\n",
    "import numpy as np\n",
    "warna = np.array([\"merah\",\"kuning\",\"hijau\"])\n",
    "print(warna)"
   ]
  },
  {
   "cell_type": "code",
   "execution_count": 26,
   "id": "02c50484",
   "metadata": {},
   "outputs": [
    {
     "name": "stdout",
     "output_type": "stream",
     "text": [
      "[['merah' 'kuning']\n",
      " ['biru' 'hijau']]\n"
     ]
    }
   ],
   "source": [
    "#2-D arrays\n",
    "warna = np.array([[\"merah\",\"kuning\"],[\"biru\",\"hijau\"]])\n",
    "print(warna)"
   ]
  },
  {
   "cell_type": "code",
   "execution_count": 27,
   "id": "e40ba2d1",
   "metadata": {},
   "outputs": [
    {
     "name": "stdout",
     "output_type": "stream",
     "text": [
      "[[['merah' 'kuning']\n",
      "  ['biru' 'hijau']]\n",
      "\n",
      " [['merah' 'kuning']\n",
      "  ['biru' 'hijau']]]\n"
     ]
    }
   ],
   "source": [
    "#3-D arrays\n",
    "warna = np.array([[[\"merah\",\"kuning\"],[\"biru\",\"hijau\"]],[[\"merah\",\"kuning\"],[\"biru\",\"hijau\"]]])\n",
    "print(warna)"
   ]
  },
  {
   "cell_type": "markdown",
   "id": "ec8d5018",
   "metadata": {},
   "source": [
    "# Check how many dimensions the arrays have"
   ]
  },
  {
   "cell_type": "code",
   "execution_count": 28,
   "id": "5fb913ef",
   "metadata": {},
   "outputs": [
    {
     "name": "stdout",
     "output_type": "stream",
     "text": [
      "0\n",
      "1\n",
      "2\n",
      "3\n"
     ]
    }
   ],
   "source": [
    "import numpy as np\n",
    "\n",
    "a = np.array(42)\n",
    "b = np.array([1,2,3,4,5])\n",
    "c = np.array([[1,2,3],[4,5,6],[5,6,7]])\n",
    "d = np.array([[[1,2,3],[4,5,6]],[[1,2,3],[4,5,6]]])\n",
    "\n",
    "print(a.ndim)\n",
    "print(b.ndim)\n",
    "print(c.ndim)\n",
    "print(d.ndim)"
   ]
  },
  {
   "cell_type": "markdown",
   "id": "5b0915d1",
   "metadata": {},
   "source": [
    "# Create an array with 5 dimensions and verify that it has 5 dimensions"
   ]
  },
  {
   "cell_type": "code",
   "execution_count": 30,
   "id": "722ccdf5",
   "metadata": {},
   "outputs": [
    {
     "name": "stdout",
     "output_type": "stream",
     "text": [
      "[[[[[1 2 3 4]]]]]\n",
      "number of dimensions :  5\n"
     ]
    }
   ],
   "source": [
    "import numpy as np\n",
    "\n",
    "arr = np.array([1,2,3,4], ndmin=5)\n",
    "\n",
    "print(arr)\n",
    "print('number of dimensions : ', arr.ndim)"
   ]
  },
  {
   "cell_type": "markdown",
   "id": "1ed22a38",
   "metadata": {},
   "source": [
    "# TASK"
   ]
  },
  {
   "cell_type": "code",
   "execution_count": 36,
   "id": "1cb144af",
   "metadata": {},
   "outputs": [
    {
     "name": "stdout",
     "output_type": "stream",
     "text": [
      "0\n",
      "1\n",
      "2\n",
      "3\n",
      "4\n",
      "5\n"
     ]
    }
   ],
   "source": [
    "#check how many dimensions the arrays have\n",
    "import numpy as np\n",
    "\n",
    "a = warna = np.array(\"merah\")\n",
    "b = np.array([\"merah\",\"kuning\",\"hijau\"])\n",
    "c = np.array([[\"merah\",\"kuning\"],[\"biru\",\"hijau\"]])\n",
    "d = np.array([[[\"merah\",\"kuning\"],[\"biru\",\"hijau\"]],[[\"merah\",\"kuning\"],[\"biru\",\"hijau\"]]])\n",
    "e = np.array([[[[\"merah\",\"kuning\"]],[[\"biru\",\"hijau\"]]]])\n",
    "f = np.array([[[[[\"merah\",\"kuning\"]],[[\"biru\",\"hijau\"]]]]])\n",
    "\n",
    "print(a.ndim)\n",
    "print(b.ndim)\n",
    "print(c.ndim)\n",
    "print(d.ndim)\n",
    "print(e.ndim)\n",
    "print(f.ndim)"
   ]
  },
  {
   "cell_type": "code",
   "execution_count": 40,
   "id": "e9cec5a0",
   "metadata": {},
   "outputs": [
    {
     "name": "stdout",
     "output_type": "stream",
     "text": [
      "[[[[['merah' 'kuning']]\n",
      "\n",
      "   [['biru' 'hijau']]]]]\n",
      "number of dimensions :  5\n"
     ]
    }
   ],
   "source": [
    "# Create an array with 5 dimensions and verify that it has 5 dimensions\n",
    "warna = np.array([[[[[\"merah\",\"kuning\"]],[[\"biru\",\"hijau\"]]]]], ndmin=5)\n",
    "\n",
    "print(warna)\n",
    "print('number of dimensions : ', warna.ndim)"
   ]
  },
  {
   "cell_type": "code",
   "execution_count": 41,
   "id": "689d36e4",
   "metadata": {},
   "outputs": [
    {
     "name": "stdout",
     "output_type": "stream",
     "text": [
      "1\n"
     ]
    }
   ],
   "source": [
    "#Get the first element from the following array\n",
    "import numpy as np\n",
    "\n",
    "arr = np.array([1,2,3,4])\n",
    "print(arr[0])"
   ]
  },
  {
   "cell_type": "code",
   "execution_count": 42,
   "id": "3ae7fe8d",
   "metadata": {},
   "outputs": [
    {
     "name": "stdout",
     "output_type": "stream",
     "text": [
      "2\n"
     ]
    }
   ],
   "source": [
    "#Get the second element from the following array\n",
    "arr = np.array([1,2,3,4])\n",
    "print(arr[1])"
   ]
  },
  {
   "cell_type": "code",
   "execution_count": 44,
   "id": "21ce7bfb",
   "metadata": {},
   "outputs": [
    {
     "name": "stdout",
     "output_type": "stream",
     "text": [
      "7\n"
     ]
    }
   ],
   "source": [
    "#Get the third and fourth element from the following array and add them\n",
    "arr = np.array([1,2,3,4])\n",
    "print(arr[2] + arr[3])"
   ]
  },
  {
   "cell_type": "markdown",
   "id": "98cff226",
   "metadata": {},
   "source": [
    "# TASK"
   ]
  },
  {
   "cell_type": "code",
   "execution_count": 45,
   "id": "c3ebb187",
   "metadata": {},
   "outputs": [
    {
     "name": "stdout",
     "output_type": "stream",
     "text": [
      "['biru' '3' '4' 'hijau']\n"
     ]
    }
   ],
   "source": [
    "data = np.array([\"merah\", 1, 2, \"biru\", 3, 4, \"hijau\", 5, 6, 7])\n",
    "#2p\n",
    "print(data[3:7])"
   ]
  },
  {
   "cell_type": "code",
   "execution_count": 52,
   "id": "91efe918",
   "metadata": {},
   "outputs": [
    {
     "name": "stdout",
     "output_type": "stream",
     "text": [
      "['merah' 'biru' 'hijau']\n"
     ]
    }
   ],
   "source": [
    "#3p\n",
    "print(data[0:9:3])"
   ]
  },
  {
   "cell_type": "code",
   "execution_count": 53,
   "id": "6dfd32e7",
   "metadata": {},
   "outputs": [
    {
     "name": "stdout",
     "output_type": "stream",
     "text": [
      "merah biru\n"
     ]
    }
   ],
   "source": [
    "#operasi index\n",
    "print(data[0] + \" \" + data[3])"
   ]
  },
  {
   "cell_type": "code",
   "execution_count": 55,
   "id": "412f5142",
   "metadata": {},
   "outputs": [
    {
     "name": "stdout",
     "output_type": "stream",
     "text": [
      "2nd element on 1st row:  2\n"
     ]
    }
   ],
   "source": [
    "#Access the element on the first row, second column\n",
    "arr = np.array([[1,2,3,4,5], [6,7,8,9,10]])\n",
    "\n",
    "print('2nd element on 1st row: ', arr[0, 1])"
   ]
  },
  {
   "cell_type": "code",
   "execution_count": 57,
   "id": "15f97d25",
   "metadata": {},
   "outputs": [
    {
     "name": "stdout",
     "output_type": "stream",
     "text": [
      "5th element on 2nd row:  10\n"
     ]
    }
   ],
   "source": [
    "#Access the element on the 2nd row, 5th column\n",
    "arr = np.array([[1,2,3,4,5], [6,7,8,9,10]])\n",
    "\n",
    "print('5th element on 2nd row: ', arr[1,4])"
   ]
  },
  {
   "cell_type": "code",
   "execution_count": 58,
   "id": "a8ef41f4",
   "metadata": {},
   "outputs": [
    {
     "name": "stdout",
     "output_type": "stream",
     "text": [
      "9\n"
     ]
    }
   ],
   "source": [
    "#Access the third element of the 2nd array of the first array\n",
    "arr = np.array([[[1,2,3], [4,5,6]], [[7,8,9], [10,11,12]]])\n",
    "\n",
    "print(arr[1,0,2])"
   ]
  },
  {
   "cell_type": "markdown",
   "id": "0deba3cf",
   "metadata": {},
   "source": [
    "# breakdown "
   ]
  },
  {
   "cell_type": "code",
   "execution_count": 59,
   "id": "13634eba",
   "metadata": {},
   "outputs": [
    {
     "name": "stdout",
     "output_type": "stream",
     "text": [
      "[[ 7  8  9]\n",
      " [10 11 12]]\n"
     ]
    }
   ],
   "source": [
    "arr = np.array([[[1,2,3], [4,5,6]], [[7,8,9], [10,11,12]]])\n",
    "\n",
    "print(arr[1])"
   ]
  },
  {
   "cell_type": "code",
   "execution_count": 60,
   "id": "7293731f",
   "metadata": {},
   "outputs": [
    {
     "name": "stdout",
     "output_type": "stream",
     "text": [
      "[7 8 9]\n"
     ]
    }
   ],
   "source": [
    "arr = np.array([[[1,2,3], [4,5,6]], [[7,8,9], [10,11,12]]])\n",
    "\n",
    "print(arr[1,0])"
   ]
  },
  {
   "cell_type": "code",
   "execution_count": 61,
   "id": "d13f1cf9",
   "metadata": {},
   "outputs": [
    {
     "name": "stdout",
     "output_type": "stream",
     "text": [
      "9\n"
     ]
    }
   ],
   "source": [
    "arr = np.array([[[1,2,3], [4,5,6]], [[7,8,9], [10,11,12]]])\n",
    "\n",
    "print(arr[1,0,2])"
   ]
  },
  {
   "cell_type": "markdown",
   "id": "80474216",
   "metadata": {},
   "source": [
    "# TASK"
   ]
  },
  {
   "cell_type": "code",
   "execution_count": 63,
   "id": "edae65bc",
   "metadata": {},
   "outputs": [
    {
     "name": "stdout",
     "output_type": "stream",
     "text": [
      "[[1 2 3]\n",
      " [4 5 6]\n",
      " [1 2 3]]\n"
     ]
    }
   ],
   "source": [
    "#1p\n",
    "data = np.array([[[1,2,3], [4,5,6],[1,2,3]], [[7,8,9], [10,11,12],[1,2,3]]])\n",
    "print(data[0])"
   ]
  },
  {
   "cell_type": "code",
   "execution_count": 65,
   "id": "e562eaae",
   "metadata": {},
   "outputs": [
    {
     "name": "stdout",
     "output_type": "stream",
     "text": [
      "[1 2 3]\n"
     ]
    }
   ],
   "source": [
    "#2p\n",
    "data = np.array([[[1,2,3], [4,5,6],[1,2,3]], [[7,8,9], [10,11,12],[1,2,3]]])\n",
    "print(arr[0,0])"
   ]
  },
  {
   "cell_type": "code",
   "execution_count": 66,
   "id": "1ab6eedb",
   "metadata": {},
   "outputs": [
    {
     "name": "stdout",
     "output_type": "stream",
     "text": [
      "1\n"
     ]
    }
   ],
   "source": [
    "#3p\n",
    "data = np.array([[[1,2,3], [4,5,6],[1,2,3]], [[7,8,9], [10,11,12],[1,2,3]]])\n",
    "print(arr[0,0,0])"
   ]
  },
  {
   "cell_type": "markdown",
   "id": "91e0a461",
   "metadata": {},
   "source": [
    "# SLICING"
   ]
  },
  {
   "cell_type": "code",
   "execution_count": 20,
   "id": "db5a3d00",
   "metadata": {},
   "outputs": [
    {
     "name": "stdout",
     "output_type": "stream",
     "text": [
      "[2 3 4 5]\n"
     ]
    }
   ],
   "source": [
    "#Slice elements from index 1 to index 5 from the following array\n",
    "arr = np.array([1,2,3,4,5,6,7])\n",
    "print(arr[1:5])"
   ]
  },
  {
   "cell_type": "code",
   "execution_count": 21,
   "id": "2f79b612",
   "metadata": {},
   "outputs": [
    {
     "name": "stdout",
     "output_type": "stream",
     "text": [
      "[5 6 7]\n"
     ]
    }
   ],
   "source": [
    "#Slice elements from index 4 to the end of the following array\n",
    "arr = np.array([1,2,3,4,5,6,7])\n",
    "print(arr[4:])"
   ]
  },
  {
   "cell_type": "code",
   "execution_count": 22,
   "id": "8b632eec",
   "metadata": {},
   "outputs": [
    {
     "name": "stdout",
     "output_type": "stream",
     "text": [
      "[5 6]\n"
     ]
    }
   ],
   "source": [
    "#Slice from the index 3 from the end to the index 1 from the end\n",
    "arr = np.array([1,2,3,4,5,6,7])\n",
    "print(arr[-3:-1])"
   ]
  },
  {
   "cell_type": "code",
   "execution_count": 14,
   "id": "715aaf9f",
   "metadata": {},
   "outputs": [
    {
     "name": "stdout",
     "output_type": "stream",
     "text": [
      "[1 2]\n"
     ]
    }
   ],
   "source": [
    "arr = np.array([1,2,3,4,5,6,7])\n",
    "print(arr[:2])"
   ]
  },
  {
   "cell_type": "code",
   "execution_count": 70,
   "id": "6eaeea87",
   "metadata": {},
   "outputs": [
    {
     "name": "stdout",
     "output_type": "stream",
     "text": [
      "[7 8 9]\n"
     ]
    }
   ],
   "source": [
    "#From the second elements, slice elements from index 1 to index 4 (not included)\n",
    "arr = np.array([[1,2,3,4,5],[6,7,8,9,10]])\n",
    "\n",
    "print(arr[1, 1:4])"
   ]
  },
  {
   "cell_type": "code",
   "execution_count": 71,
   "id": "ade6f09a",
   "metadata": {},
   "outputs": [
    {
     "name": "stdout",
     "output_type": "stream",
     "text": [
      "[3 8]\n"
     ]
    }
   ],
   "source": [
    "#From both elements, return index 2\n",
    "arr = np.array([[1,2,3,4,5],[6,7,8,9,10]])\n",
    "\n",
    "print(arr[0:2, 2])"
   ]
  },
  {
   "cell_type": "code",
   "execution_count": 72,
   "id": "7109a2fd",
   "metadata": {},
   "outputs": [
    {
     "name": "stdout",
     "output_type": "stream",
     "text": [
      "[[2 3 4]\n",
      " [7 8 9]]\n"
     ]
    }
   ],
   "source": [
    "#From both elements, slice index 1 to index 4 (not included), this will return a 2-D array\n",
    "\n",
    "arr= np.array([[1,2,3,4,5],[6,7,8,9,10]])\n",
    "print(arr[0:2 , 1:4])"
   ]
  },
  {
   "cell_type": "markdown",
   "id": "64543ddd",
   "metadata": {},
   "source": [
    "# TASK"
   ]
  },
  {
   "cell_type": "code",
   "execution_count": 7,
   "id": "a13d942f",
   "metadata": {},
   "outputs": [
    {
     "name": "stdout",
     "output_type": "stream",
     "text": [
      "1p 2p [[10 11 12]\n",
      " [ 1  2  3]]\n",
      "2p 1p [[10 11 12]]\n",
      "2p 2p [[[10 11 12]\n",
      "  [ 1  2  3]]]\n"
     ]
    }
   ],
   "source": [
    "#3dim\n",
    "data = np.array([[[1,2,3], [4,5,6],[1,2,3]], [[7,8,9], [10,11,12],[1,2,3]]])\n",
    "print('1p 2p', data[1, 1:3])\n",
    "print('2p 1p',data[1:3, 1])\n",
    "print('2p 2p',data[1:3, 1:3])"
   ]
  },
  {
   "cell_type": "code",
   "execution_count": 13,
   "id": "7c6498fe",
   "metadata": {},
   "outputs": [
    {
     "name": "stdout",
     "output_type": "stream",
     "text": [
      "['kuning']\n"
     ]
    }
   ],
   "source": [
    "#[2p, 1p]\n",
    "data = np.array([[\"merah\",\"kuning\",\"ungu\"],[\"biru\",\"hijau\",\"pink\"]])\n",
    "print(data[0:1, 1])"
   ]
  },
  {
   "cell_type": "code",
   "execution_count": 19,
   "id": "dfccfa6b",
   "metadata": {},
   "outputs": [
    {
     "name": "stdout",
     "output_type": "stream",
     "text": [
      "[['kuning']\n",
      " ['hijau']]\n"
     ]
    }
   ],
   "source": [
    "#[2p, 2p]\n",
    "data = np.array([[\"merah\",\"kuning\",\"ungu\"],[\"biru\",\"hijau\",\"pink\"]])\n",
    "print(data[0:2, 1:2])"
   ]
  },
  {
   "cell_type": "code",
   "execution_count": null,
   "id": "e31bdd1f",
   "metadata": {},
   "outputs": [],
   "source": []
  }
 ],
 "metadata": {
  "kernelspec": {
   "display_name": "Python 3 (ipykernel)",
   "language": "python",
   "name": "python3"
  },
  "language_info": {
   "codemirror_mode": {
    "name": "ipython",
    "version": 3
   },
   "file_extension": ".py",
   "mimetype": "text/x-python",
   "name": "python",
   "nbconvert_exporter": "python",
   "pygments_lexer": "ipython3",
   "version": "3.9.7"
  }
 },
 "nbformat": 4,
 "nbformat_minor": 5
}
