{
 "cells": [
  {
   "cell_type": "markdown",
   "id": "1d2af6ad",
   "metadata": {},
   "source": [
    "# Math "
   ]
  },
  {
   "cell_type": "markdown",
   "id": "c4667040",
   "metadata": {},
   "source": [
    "math module is python module that can handle these complex calculations. Both simple mathematical calculations like addition (+), and subtraction (-), and advanced mathematical calculations like trigonometric operations, and logarithmic."
   ]
  },
  {
   "cell_type": "code",
   "execution_count": 2,
   "id": "9a256140",
   "metadata": {},
   "outputs": [
    {
     "data": {
      "text/plain": [
       "3.141592653589793"
      ]
     },
     "execution_count": 2,
     "metadata": {},
     "output_type": "execute_result"
    }
   ],
   "source": [
    "import math\n",
    "\n",
    "phi = math.pi ##method to return values of phi\n",
    "phi"
   ]
  },
  {
   "cell_type": "code",
   "execution_count": 3,
   "id": "d3dcd682",
   "metadata": {},
   "outputs": [
    {
     "data": {
      "text/plain": [
       "4"
      ]
     },
     "execution_count": 3,
     "metadata": {},
     "output_type": "execute_result"
    }
   ],
   "source": [
    "upperbound = math.ceil(phi) ##method rounds a number upwards to its nearest integer\n",
    "upperbound"
   ]
  },
  {
   "cell_type": "code",
   "execution_count": 4,
   "id": "82a6b358",
   "metadata": {},
   "outputs": [
    {
     "data": {
      "text/plain": [
       "3"
      ]
     },
     "execution_count": 4,
     "metadata": {},
     "output_type": "execute_result"
    }
   ],
   "source": [
    "lowerbound = math.floor(phi) ##method rounds a number downwards to its nearest integer\n",
    "lowerbound"
   ]
  },
  {
   "cell_type": "code",
   "execution_count": 5,
   "id": "aafea489",
   "metadata": {},
   "outputs": [
    {
     "data": {
      "text/plain": [
       "5.0"
      ]
     },
     "execution_count": 5,
     "metadata": {},
     "output_type": "execute_result"
    }
   ],
   "source": [
    "math.sqrt(25) ##mmethod to returns the square root of a number"
   ]
  },
  {
   "cell_type": "code",
   "execution_count": 6,
   "id": "114fef23",
   "metadata": {},
   "outputs": [
    {
     "data": {
      "text/plain": [
       "314.1592653589793"
      ]
     },
     "execution_count": 6,
     "metadata": {},
     "output_type": "execute_result"
    }
   ],
   "source": [
    "r = 10\n",
    "\n",
    "L = math.pi * math.pow(r,2)##method returns the value of x raised to power y\n",
    "L"
   ]
  }
 ],
 "metadata": {
  "kernelspec": {
   "display_name": "Python 3 (ipykernel)",
   "language": "python",
   "name": "python3"
  },
  "language_info": {
   "codemirror_mode": {
    "name": "ipython",
    "version": 3
   },
   "file_extension": ".py",
   "mimetype": "text/x-python",
   "name": "python",
   "nbconvert_exporter": "python",
   "pygments_lexer": "ipython3",
   "version": "3.7.9"
  }
 },
 "nbformat": 4,
 "nbformat_minor": 5
}
