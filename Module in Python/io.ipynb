{
 "cells": [
  {
   "cell_type": "markdown",
   "id": "087828c6",
   "metadata": {},
   "source": [
    "# IO"
   ]
  },
  {
   "cell_type": "markdown",
   "id": "99642971",
   "metadata": {},
   "source": [
    "Python io module allows us to manage the file-related input and output operations. The advantage of using the IO module is that the classes and functions available allows us to extend the functionality to enable writing to the Unicode data."
   ]
  },
  {
   "cell_type": "code",
   "execution_count": 1,
   "id": "cc321d0d",
   "metadata": {},
   "outputs": [
    {
     "name": "stdout",
     "output_type": "stream",
     "text": [
      "Input anything  : Hello World\n"
     ]
    }
   ],
   "source": [
    "import io\n",
    "\n",
    "with io.open('log.txt','w') as writefile:\n",
    "    input = input('Input anything  : ')\n",
    "    writefile.write(input)"
   ]
  },
  {
   "cell_type": "code",
   "execution_count": 2,
   "id": "312d75de",
   "metadata": {},
   "outputs": [
    {
     "data": {
      "text/plain": [
       "'Hello World'"
      ]
     },
     "execution_count": 2,
     "metadata": {},
     "output_type": "execute_result"
    }
   ],
   "source": [
    "file = io.open('log.txt','r', buffering = 5)\n",
    "file.read()"
   ]
  }
 ],
 "metadata": {
  "kernelspec": {
   "display_name": "Python 3 (ipykernel)",
   "language": "python",
   "name": "python3"
  },
  "language_info": {
   "codemirror_mode": {
    "name": "ipython",
    "version": 3
   },
   "file_extension": ".py",
   "mimetype": "text/x-python",
   "name": "python",
   "nbconvert_exporter": "python",
   "pygments_lexer": "ipython3",
   "version": "3.7.9"
  }
 },
 "nbformat": 4,
 "nbformat_minor": 5
}
