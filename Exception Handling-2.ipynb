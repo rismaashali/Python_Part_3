{
 "cells": [
  {
   "cell_type": "markdown",
   "id": "a98930e6",
   "metadata": {},
   "source": [
    "Exception Handling\n",
    "\n",
    "+ Exception handling process using paired 'try' and 'except' statements\n",
    "+ For example we want to handle exceptions that occur if there is a division of a number by zero"
   ]
  },
  {
   "cell_type": "code",
   "execution_count": 4,
   "id": "bc19af5d",
   "metadata": {},
   "outputs": [],
   "source": [
    "a = 0"
   ]
  },
  {
   "cell_type": "code",
   "execution_count": 5,
   "id": "bff4628a",
   "metadata": {},
   "outputs": [
    {
     "ename": "ZeroDivisionError",
     "evalue": "division by zero",
     "output_type": "error",
     "traceback": [
      "\u001b[1;31m---------------------------------------------------------------------------\u001b[0m",
      "\u001b[1;31mZeroDivisionError\u001b[0m                         Traceback (most recent call last)",
      "Input \u001b[1;32mIn [5]\u001b[0m, in \u001b[0;36m<cell line: 1>\u001b[1;34m()\u001b[0m\n\u001b[1;32m----> 1\u001b[0m divide \u001b[38;5;241m=\u001b[39m \u001b[38;5;241;43m10\u001b[39;49m\u001b[38;5;241;43m/\u001b[39;49m\u001b[43ma\u001b[49m\n",
      "\u001b[1;31mZeroDivisionError\u001b[0m: division by zero"
     ]
    }
   ],
   "source": [
    "divide = 10/a"
   ]
  },
  {
   "cell_type": "code",
   "execution_count": 6,
   "id": "959d3ce5",
   "metadata": {},
   "outputs": [
    {
     "name": "stdout",
     "output_type": "stream",
     "text": [
      "Cannot divide by Zero\n"
     ]
    }
   ],
   "source": [
    "a = 0\n",
    "try:\n",
    "    divide = 10/a\n",
    "    print(divide)\n",
    "except ZeroDivisionError:\n",
    "    print('Cannot divide by Zero')"
   ]
  },
  {
   "cell_type": "markdown",
   "id": "fb2c72c8",
   "metadata": {},
   "source": [
    "ZeroDivisionError is a built-in Python exception thrown when a number is divided by 0. This means that the exception raised when the second argument of a division or modulo operation is zero."
   ]
  },
  {
   "cell_type": "code",
   "execution_count": 8,
   "id": "7f5986e3",
   "metadata": {},
   "outputs": [
    {
     "name": "stdout",
     "output_type": "stream",
     "text": [
      "Masukkan angka: a\n",
      "Masukkan angka dengan benar\n",
      "Masukkan angka: 1\n"
     ]
    }
   ],
   "source": [
    "#quiz 1\n",
    "while True:\n",
    "    try:\n",
    "        x = int(input(\"Masukkan angka: \"))\n",
    "        break\n",
    "    except ValueError:\n",
    "         print(\"Masukkan angka dengan benar\")"
   ]
  },
  {
   "cell_type": "code",
   "execution_count": null,
   "id": "67aad2d0",
   "metadata": {},
   "outputs": [],
   "source": []
  },
  {
   "cell_type": "code",
   "execution_count": 9,
   "id": "b901f5dc",
   "metadata": {},
   "outputs": [
    {
     "ename": "FileNotFoundError",
     "evalue": "[Errno 2] No such file or directory: 'bestie.doc'",
     "output_type": "error",
     "traceback": [
      "\u001b[1;31m---------------------------------------------------------------------------\u001b[0m",
      "\u001b[1;31mFileNotFoundError\u001b[0m                         Traceback (most recent call last)",
      "Input \u001b[1;32mIn [9]\u001b[0m, in \u001b[0;36m<cell line: 1>\u001b[1;34m()\u001b[0m\n\u001b[1;32m----> 1\u001b[0m \u001b[38;5;28;43mopen\u001b[39;49m\u001b[43m \u001b[49m\u001b[43m(\u001b[49m\u001b[38;5;124;43m'\u001b[39;49m\u001b[38;5;124;43mbestie.doc\u001b[39;49m\u001b[38;5;124;43m'\u001b[39;49m\u001b[43m)\u001b[49m\n",
      "\u001b[1;31mFileNotFoundError\u001b[0m: [Errno 2] No such file or directory: 'bestie.doc'"
     ]
    }
   ],
   "source": [
    "open ('bestie.doc')"
   ]
  },
  {
   "cell_type": "code",
   "execution_count": 21,
   "id": "411cd861",
   "metadata": {},
   "outputs": [
    {
     "name": "stdout",
     "output_type": "stream",
     "text": [
      "File cannot be found\n"
     ]
    }
   ],
   "source": [
    "try:\n",
    "    with open ('bestie.doc') as file:\n",
    "        print(file.read())\n",
    "except (FileNotFoundError, ):\n",
    "    print('File cannot be found')"
   ]
  },
  {
   "cell_type": "markdown",
   "id": "f0c8e357",
   "metadata": {},
   "source": [
    "With the try and except statements, the application does not stop but prints that the file cannot be found"
   ]
  },
  {
   "cell_type": "code",
   "execution_count": 18,
   "id": "655f1c57",
   "metadata": {},
   "outputs": [],
   "source": [
    "x = {'Nilai Anda': '10.0'}"
   ]
  },
  {
   "cell_type": "code",
   "execution_count": 20,
   "id": "8950aa77",
   "metadata": {},
   "outputs": [
    {
     "ename": "KeyError",
     "evalue": "'Nilai ANda'",
     "output_type": "error",
     "traceback": [
      "\u001b[1;31m---------------------------------------------------------------------------\u001b[0m",
      "\u001b[1;31mKeyError\u001b[0m                                  Traceback (most recent call last)",
      "Input \u001b[1;32mIn [20]\u001b[0m, in \u001b[0;36m<cell line: 1>\u001b[1;34m()\u001b[0m\n\u001b[1;32m----> 1\u001b[0m \u001b[38;5;28mprint\u001b[39m(\u001b[38;5;124m'\u001b[39m\u001b[38;5;124mNilai Ujian Anda: \u001b[39m\u001b[38;5;132;01m{}\u001b[39;00m\u001b[38;5;124m'\u001b[39m\u001b[38;5;241m.\u001b[39mformat(\u001b[43mx\u001b[49m\u001b[43m[\u001b[49m\u001b[38;5;124;43m'\u001b[39;49m\u001b[38;5;124;43mNilai ANda\u001b[39;49m\u001b[38;5;124;43m'\u001b[39;49m\u001b[43m]\u001b[49m))\n",
      "\u001b[1;31mKeyError\u001b[0m: 'Nilai ANda'"
     ]
    }
   ],
   "source": [
    "print('Nilai Ujian Anda: {}'.format(x['Nilai ANda']))"
   ]
  },
  {
   "cell_type": "markdown",
   "id": "f01583d4",
   "metadata": {},
   "source": [
    "In more complex applications, except handling can use more than one except statement."
   ]
  },
  {
   "cell_type": "code",
   "execution_count": null,
   "id": "58661c6d",
   "metadata": {},
   "outputs": [],
   "source": []
  },
  {
   "cell_type": "code",
   "execution_count": 24,
   "id": "802beb1f",
   "metadata": {},
   "outputs": [
    {
     "name": "stdout",
     "output_type": "stream",
     "text": [
      "Something went wrong when opening the file\n"
     ]
    }
   ],
   "source": [
    "#quiz 2\n",
    "try:\n",
    "    a = open(\"bestie.pdf\")\n",
    "    try:\n",
    "        a.write(\"Halo Bestie\")\n",
    "    except:\n",
    "        print(\"Something went wrong when writing to the file\")\n",
    "except:\n",
    "    print(\"Something went wrong when opening the file\")"
   ]
  },
  {
   "cell_type": "code",
   "execution_count": 27,
   "id": "1881e92b",
   "metadata": {},
   "outputs": [
    {
     "name": "stdout",
     "output_type": "stream",
     "text": [
      "apa itu x\n"
     ]
    }
   ],
   "source": [
    "try:\n",
    "    print(z)\n",
    "except (NameError, ):\n",
    "    print('apa itu x')\n",
    "except ValueError:\n",
    "    print('Value nya salah')"
   ]
  },
  {
   "cell_type": "markdown",
   "id": "15835ea2",
   "metadata": {},
   "source": [
    "In more complex applications, except handling can use the except statement of more than one error type concatenated in a tuple"
   ]
  },
  {
   "cell_type": "code",
   "execution_count": 30,
   "id": "6c051dfc",
   "metadata": {},
   "outputs": [
    {
     "ename": "TypeError",
     "evalue": "unsupported operand type(s) for /: 'str' and 'int'",
     "output_type": "error",
     "traceback": [
      "\u001b[1;31m---------------------------------------------------------------------------\u001b[0m",
      "\u001b[1;31mTypeError\u001b[0m                                 Traceback (most recent call last)",
      "Input \u001b[1;32mIn [30]\u001b[0m, in \u001b[0;36m<cell line: 2>\u001b[1;34m()\u001b[0m\n\u001b[0;32m      1\u001b[0m x \u001b[38;5;241m=\u001b[39m {\u001b[38;5;124m'\u001b[39m\u001b[38;5;124mNilai Anda\u001b[39m\u001b[38;5;124m'\u001b[39m: \u001b[38;5;124m'\u001b[39m\u001b[38;5;124m10.0\u001b[39m\u001b[38;5;124m'\u001b[39m}\n\u001b[1;32m----> 2\u001b[0m \u001b[38;5;28mprint\u001b[39m(\u001b[38;5;124m'\u001b[39m\u001b[38;5;124mNilai UAS: \u001b[39m\u001b[38;5;132;01m{}\u001b[39;00m\u001b[38;5;124m'\u001b[39m\u001b[38;5;241m.\u001b[39mformat(\u001b[43mx\u001b[49m\u001b[43m[\u001b[49m\u001b[38;5;124;43m'\u001b[39;49m\u001b[38;5;124;43mNilai Anda\u001b[39;49m\u001b[38;5;124;43m'\u001b[39;49m\u001b[43m]\u001b[49m\u001b[38;5;241;43m/\u001b[39;49m\u001b[38;5;241;43m3\u001b[39;49m))\n",
      "\u001b[1;31mTypeError\u001b[0m: unsupported operand type(s) for /: 'str' and 'int'"
     ]
    }
   ],
   "source": [
    "x = {'Nilai Anda': '10.0'}\n",
    "print('Nilai UAS: {}'.format(x['Nilai Anda']/3))"
   ]
  },
  {
   "cell_type": "code",
   "execution_count": 33,
   "id": "2ba3a023",
   "metadata": {},
   "outputs": [
    {
     "name": "stdout",
     "output_type": "stream",
     "text": [
      "Key was not found in dictionary\n"
     ]
    }
   ],
   "source": [
    "x = {'Nilai Anda': '10.0'}\n",
    "\n",
    "try:\n",
    "    print('Nilai UAS: {}'.format(x['Nilai_Anda']))\n",
    "except KeyError:\n",
    "    print('Key was not found in dictionary')\n",
    "except (ValueError, TypeError):\n",
    "    print('Value or Type not match')"
   ]
  },
  {
   "cell_type": "code",
   "execution_count": 35,
   "id": "41a92980",
   "metadata": {},
   "outputs": [
    {
     "name": "stdout",
     "output_type": "stream",
     "text": [
      "Error Handling: invalid literal for int() with base 10: '10.0'\n"
     ]
    }
   ],
   "source": [
    "x = {'Nilai Anda': '10.0'}\n",
    "\n",
    "try:\n",
    "    print('Pembulatan Nilai UAS: {}'.format(int(x['Nilai Anda'])))\n",
    "except (ValueError, TypeError) as e:\n",
    "    print('Error Handling: {}'.format(e))"
   ]
  },
  {
   "cell_type": "code",
   "execution_count": null,
   "id": "35539a08",
   "metadata": {},
   "outputs": [],
   "source": []
  }
 ],
 "metadata": {
  "kernelspec": {
   "display_name": "Python 3 (ipykernel)",
   "language": "python",
   "name": "python3"
  },
  "language_info": {
   "codemirror_mode": {
    "name": "ipython",
    "version": 3
   },
   "file_extension": ".py",
   "mimetype": "text/x-python",
   "name": "python",
   "nbconvert_exporter": "python",
   "pygments_lexer": "ipython3",
   "version": "3.9.12"
  }
 },
 "nbformat": 4,
 "nbformat_minor": 5
}
